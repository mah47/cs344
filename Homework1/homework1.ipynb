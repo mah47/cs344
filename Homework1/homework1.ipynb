Homework 1
Marcos Hernandez
CS344
Exercise 1
cite: https://en.wikipedia.org/wiki/Introspection

I don't think introspection is a good way to gain insight into human cognitive processes for the purpose of modeling
those processes because, based on Wikipedia, introspection relies on the ability to acknowledge one's mental
state. It basically gets information from the inside and I don't think that it can work with AI because it requires
information or intel that can be collected from the outside. Introspection requires information outside the brain to
learn. Introspection involves feeling and emotions and AI lacks feeling and emotion since it is not human, its a program
that follows the instruction that the programmer made. Maybe an AI that has introspection can be a problem which is good
that it doesn't have a self consciousness.


#########################################################
Exercise 2

'''
Homework 1
Marcos Hernandez
CS344
Exercise 2
'''

#imports
from tools.aima.search import Problem, hill_climbing, simulated_annealing, exp_schedule
from random import randrange

class TSP(Problem):

#definition initializes random city and path generator
    def __init__(self, randomCity, randomPath):
        self.initial = []
        self.randomCity = randomCity
        self.randomPath = randomPath
        self.initial.append(randrange(0, randomCity - 1))
        print("Start:" + str(self.initial[0]) + "\n")

#definition value, distance for each city
    def value(self, TSPstate):
        cityValue = 0
        for cityNumber in range(0, len(TSPstate) - 1):
            distance = (cityNumber + 1) % randomCity
            cityValue += self.randomPath[tuple(sorted((TSPstate[cityNumber], TSPstate[distance])))]
        return cityValue

#definition result: new city travelled
    def result(self, TSPstate, travel):
        newCity = TSPstate[ : ]
        newCity.append(travel)
        return newCity

#definition actions: distance
    def actions(self, TSPstate):
        TSPaction = []
        for distance in range(0, randomCity):
            if distance not in TSPstate:
                TSPaction.append(distance)
        return TSPaction

if __name__ == '__main__':

    #change the number of cities it travels
    randomCity = 50
    randomPath = {}

#indicates path and distances that have been randomized
    for cityNumber in range(0, randomCity):
        for space in range(cityNumber + 1, randomCity):
            local = (cityNumber, space)
            newPathDistance = randrange(1, 9)
            randomPath[local] = newPathDistance

    TSPproblem = TSP(randomCity, randomPath)

#implementations
    hillClimbingImp = hill_climbing(TSPproblem)
    simulatedAnnealingImp = simulated_annealing(TSPproblem, exp_schedule(k=10, lam=0.005, limit=100))

#prints hill climbing and simulated annealing results
    print('Hill climbing:\t' + str(hillClimbingImp)
          + '\n\tvalue: ' + str(TSPproblem.value(hillClimbingImp))
          )

    print('Simulated annealing\t: ' + str(simulatedAnnealingImp)
          + '\n\tvalue: ' + str(TSPproblem.value(simulatedAnnealingImp))
          )




#########################################################
Exercise 3

'''
Homework 1
Marcos Hernandez
CS344
Exercise 3
'''

#imports
from tools.aima.csp import CSP, \
    min_conflicts

#lists for courses, professors, time, room, day
classes = ["CS108", "CS112","CS212","CS214" ,"CS232","CS262","CS344"]
professors = ["Norman", "Adams", "Vander Linden", "Plantinga"]
timeSchedule = ["MWF_900", "MWF_1130", "TTH_1030", "MWF_230"]
roomNumber = ["SB_282", "NH_253"]
assignments = {"CS108" : "Norman", "CS112" : "Adams", "CS212" : "Plantinga", "CS214" : "Adams", "CS232" : "Norman", "CS262" : "Vander Linden", "CS344" : "Vander Linden"}


#class chedule for each professor, room, and time
def class_schedule(class1, slot1, class2, slot2):
    professor1 = slot1[0]
    time1 = slot1[1]
    room1 = slot1[2]
    professor2 = slot2[0]
    time2 = slot2[1]
    room2 = slot2[2]

#stops the program to overlap with other sessions
    noRoomOverlap = (time1 != time2) or (room1 != room2)
    noProfessorOverlap = (professor1 != professor2) or (time1 != time2)
    return (noRoomOverlap and noProfessorOverlap)

#definition for time
def time_slots(slot, time):
    classTimeSlots = []
    for slots in slot:
        for times in time:
             classTimeSlots.append((slots, times))
    return classTimeSlots

#definition for assignments, courses, schedule
def course_schedule_assignment(course, assignment, classTimeSlots):
    scheduleAssignment = {}
    for courses in course:
        schedule = []
        professor = assignment[courses]
        for slot in classTimeSlots:
            schedule.append((professor, slot[0], slot[1]))
        scheduleAssignment[courses] = schedule
    return scheduleAssignment

#definition for CS courses
def schedule_CS(classes):
    CS = {}
    classTotal = len(classes)
    for classSchedule in range(classTotal):
        classTime = []
        for timeSchedule in range( classSchedule + 1, classTotal):
            classTime.append(classes[timeSchedule])
        CS[classes[classSchedule]] = classTime
    return CS

#assigns all the data entered
slots = time_slots(timeSchedule, roomNumber)
courseAssignments = course_schedule_assignment(classes, assignments, slots)
CSSchedule = schedule_CS(classes)

#stores results from data stored
scheduleResult = min_conflicts(CSP(classes, courseAssignments, CSSchedule, class_schedule))

#prints the schedule
print('Schedule: ' + str(classes))
print("CS Schedule: ")
for i in courseAssignments:
    print("{0}: {1}".format(i, courseAssignments[i]))
print("Results: ")
for r in scheduleResult:
    print("{0}: {1}".format(r, scheduleResult[r]))